{
  "nbformat": 4,
  "nbformat_minor": 0,
  "metadata": {
    "colab": {
      "provenance": [],
      "authorship_tag": "ABX9TyOWM8s86fwg5znB2FSGMhP5",
      "include_colab_link": true
    },
    "kernelspec": {
      "name": "python3",
      "display_name": "Python 3"
    },
    "language_info": {
      "name": "python"
    }
  },
  "cells": [
    {
      "cell_type": "markdown",
      "metadata": {
        "id": "view-in-github",
        "colab_type": "text"
      },
      "source": [
        "<a href=\"https://colab.research.google.com/github/Muzsek/Aj/blob/main/AIO_01_images.ipynb\" target=\"_parent\"><img src=\"https://colab.research.google.com/assets/colab-badge.svg\" alt=\"Open In Colab\"/></a>"
      ]
    },
    {
      "cell_type": "markdown",
      "source": [
        "# Creating CAPTCHA Images for training"
      ],
      "metadata": {
        "id": "2dV-ayC1cSZC"
      }
    },
    {
      "cell_type": "code",
      "source": [
        "# Installing CATPCHA to generate images\n",
        "!pip install captcha"
      ],
      "metadata": {
        "colab": {
          "base_uri": "https://localhost:8080/"
        },
        "id": "I7Q7-uQqeIVm",
        "outputId": "c041ced5-e48f-4b54-87fc-86907acfe475"
      },
      "execution_count": 3,
      "outputs": [
        {
          "output_type": "stream",
          "name": "stdout",
          "text": [
            "Collecting captcha\n",
            "  Downloading captcha-0.7.1-py3-none-any.whl.metadata (2.2 kB)\n",
            "Requirement already satisfied: Pillow in /usr/local/lib/python3.11/dist-packages (from captcha) (11.3.0)\n",
            "Downloading captcha-0.7.1-py3-none-any.whl (147 kB)\n",
            "\u001b[?25l   \u001b[90m━━━━━━━━━━━━━━━━━━━━━━━━━━━━━━━━━━━━━━━━\u001b[0m \u001b[32m0.0/147.6 kB\u001b[0m \u001b[31m?\u001b[0m eta \u001b[36m-:--:--\u001b[0m\r\u001b[2K   \u001b[90m━━━━━━━━━━━━━━━━━━━━━━━━━━━━━━━━━━━━━━━━\u001b[0m \u001b[32m147.6/147.6 kB\u001b[0m \u001b[31m5.5 MB/s\u001b[0m eta \u001b[36m0:00:00\u001b[0m\n",
            "\u001b[?25hInstalling collected packages: captcha\n",
            "Successfully installed captcha-0.7.1\n"
          ]
        }
      ]
    },
    {
      "cell_type": "code",
      "source": [
        "# Importing all the neccesary libraries\n",
        "from captcha.image import ImageCaptcha\n",
        "import random\n",
        "import string\n",
        "import os\n",
        "from pathlib import Path\n",
        "from google.colab import drive\n",
        "from pathlib import Path\n",
        "from PIL import Image\n",
        "\n",
        "drive.mount('/content/drive')"
      ],
      "metadata": {
        "id": "Rb5NRmsMfzOf",
        "colab": {
          "base_uri": "https://localhost:8080/"
        },
        "outputId": "c14d9e12-a3b0-4557-eb60-4dd06d23858b"
      },
      "execution_count": 9,
      "outputs": [
        {
          "output_type": "stream",
          "name": "stdout",
          "text": [
            "Drive already mounted at /content/drive; to attempt to forcibly remount, call drive.mount(\"/content/drive\", force_remount=True).\n"
          ]
        }
      ]
    },
    {
      "cell_type": "code",
      "source": [
        "\n",
        "main_folder = Path('/content/drive/MyDrive/Colab/Captcha/images')\n",
        "main_folder.mkdir(parents = True, exist_ok = True)\n",
        "\n",
        "training_folder= Path('/content/drive/MyDrive/Colab/Captcha/images/train')\n",
        "training_folder.mkdir(parents = True, exist_ok = True)\n",
        "\n",
        "testing_folder = Path('/content/drive/MyDrive/Colab/Captcha/images/test')\n",
        "testing_folder.mkdir(parents = True, exist_ok = True)"
      ],
      "metadata": {
        "id": "OEJAHI9TlTNj"
      },
      "execution_count": 6,
      "outputs": []
    },
    {
      "cell_type": "code",
      "source": [
        "random.seed(42)\n",
        "chars = string.ascii_lowercase + string.ascii_uppercase + string.digits\n"
      ],
      "metadata": {
        "id": "vsz7gwuNcheW"
      },
      "execution_count": 12,
      "outputs": []
    },
    {
      "cell_type": "code",
      "source": [
        "\n",
        "img = ImageCaptcha(width = 120,\n",
        "                    height = 50)\n",
        "for i in range(int(3000*0.8)):\n",
        "  label = ''.join(random.choices(chars, k = 2))\n",
        "  image = img.generate_image(label)\n",
        "  image.save(training_folder / f\"{label}_{i}.png\")\n",
        "\n",
        "for i in range(int(3000*0.2)):\n",
        "  label = ''.join(random.choices(chars, k = 2))\n",
        "  image = img.generate_image(label)\n",
        "  image.save(testing_folder / f\"{label}_{i}.png\")\n",
        "print(f\"{len(os.listdir(os.path.join(training_folder)))} training images created\")\n",
        "print(f\"{len(os.listdir(os.path.join(testing_folder)))} testing images created\")"
      ],
      "metadata": {
        "id": "TBsx26wHK3wY"
      },
      "execution_count": null,
      "outputs": []
    },
    {
      "cell_type": "markdown",
      "source": [],
      "metadata": {
        "id": "FXl_HvyDiPJD"
      }
    },
    {
      "cell_type": "code",
      "source": [
        "print(f\"There are {len(os.listdir(os.path.join(training_folder)))} training images\")\n",
        "print(f\"There are {len(os.listdir(os.path.join(testing_folder)))} testing images\")"
      ],
      "metadata": {
        "colab": {
          "base_uri": "https://localhost:8080/"
        },
        "id": "0B62oUwRh9Pc",
        "outputId": "f9980594-c515-47fb-ff66-8aa3e7d42dd5"
      },
      "execution_count": 7,
      "outputs": [
        {
          "output_type": "stream",
          "name": "stdout",
          "text": [
            "There are 2400 training images\n",
            "There are 600 testing images\n"
          ]
        }
      ]
    },
    {
      "cell_type": "code",
      "source": [
        "# Deletion code if needed\n",
        "#!rm -rf data/captcha/test/*\n",
        "#!rm -rf data/captcha/train/*"
      ],
      "metadata": {
        "id": "hHcLyqAUfPOf"
      },
      "execution_count": null,
      "outputs": []
    },
    {
      "cell_type": "code",
      "source": [
        "#!ls /content/drive/MyDrive/Colab/Captcha/images/train"
      ],
      "metadata": {
        "id": "Tp4HjcYLkN1c"
      },
      "execution_count": null,
      "outputs": []
    },
    {
      "cell_type": "code",
      "source": [
        "random.seed(42)\n",
        "train_images_path = Path('/content/drive/MyDrive/Colab/Captcha/images/train/')\n",
        "\n",
        "image_path_list = list(train_images_path.glob(\"*_*.png\"))\n",
        "\n",
        "random_image_path = random.choice(image_path_list)\n",
        "\n",
        "img = Image.open(random_image_path)\n",
        "\n",
        "print(f\"Image height: {img.height} | Image width: {img.width}\")\n",
        "print(\"The image below should say 'aP' \")\n",
        "print(f\"Expected label: \",random_image_path.stem.split(\"_\")[0])\n",
        "img\n"
      ],
      "metadata": {
        "id": "gpg4qip4mBYx",
        "colab": {
          "base_uri": "https://localhost:8080/",
          "height": 119
        },
        "outputId": "15ea615e-da4d-414f-e5b1-f55c2c3d23a8"
      },
      "execution_count": 48,
      "outputs": [
        {
          "output_type": "stream",
          "name": "stdout",
          "text": [
            "Image height: 50 | Image width: 120\n",
            "The image below should say 'aP' \n",
            "Expected label:  aP\n"
          ]
        },
        {
          "output_type": "execute_result",
          "data": {
            "text/plain": [
              "<PIL.PngImagePlugin.PngImageFile image mode=RGB size=120x50>"
            ],
            "image/png": "[encoded data removed]",
            "image/jpeg": "[encoded data removed]"
          },
          "metadata": {},
          "execution_count": 48
        }
      ]
    },
    {
      "cell_type": "code",
      "source": [
        "char_to_idx = {c: i for i,c in enumerate(chars)}\n",
        "idx_to_char = {i: c for c,i in char_to_idx.items()}\n",
        "\n",
        "def encode_label(lable_str):\n",
        "  return [char_to_idx[c] for c in lable_str]\n",
        "\n",
        "def decode_indices(indices):\n",
        "  return ''.join(idx_to_char[i] for i in indices)\n",
        "\n",
        "#encode_label('aP')\n",
        "#decode_indices(encode_label('aP'))\n",
        "print(char_to_idx[''])"
      ],
      "metadata": {
        "colab": {
          "base_uri": "https://localhost:8080/"
        },
        "id": "kMPylJ3vI0_E",
        "outputId": "f14c7ea6-6afd-4ad1-b771-ae80d54db75b"
      },
      "execution_count": 28,
      "outputs": [
        {
          "output_type": "stream",
          "name": "stdout",
          "text": [
            "26\n"
          ]
        }
      ]
    },
    {
      "cell_type": "code",
      "source": [
        "from torchvision import transforms\n",
        "\n",
        "\n",
        "data_transform = transforms.Compose(\n",
        "    [\n",
        "        transforms.Grayscale(),\n",
        "        transforms.Resize((50,120)),\n",
        "        transforms.ToTensor(),\n",
        "    ]\n",
        ")\n",
        "\n",
        "print(os.listdir(training_folder)[0])\n",
        "\n"
      ],
      "metadata": {
        "colab": {
          "base_uri": "https://localhost:8080/"
        },
        "id": "OodWNEH-Kzgo",
        "outputId": "c5340099-8775-44fa-cbd2-226b84bdece4"
      },
      "execution_count": 58,
      "outputs": [
        {
          "output_type": "stream",
          "name": "stdout",
          "text": [
            "tq_1400.png\n"
          ]
        }
      ]
    },
    {
      "cell_type": "code",
      "source": [],
      "metadata": {
        "id": "MvshUmIOMScm"
      },
      "execution_count": 53,
      "outputs": []
    }
  ]
}